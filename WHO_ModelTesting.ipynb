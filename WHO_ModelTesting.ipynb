{
  "nbformat": 4,
  "nbformat_minor": 0,
  "metadata": {
    "colab": {
      "provenance": [],
      "collapsed_sections": [
        "jS7Ah5p6RtQS",
        "cHevMIHDb44-",
        "gFwfcA_KW1Ly"
      ],
      "include_colab_link": true
    },
    "kernelspec": {
      "name": "python3",
      "display_name": "Python 3"
    },
    "language_info": {
      "name": "python"
    }
  },
  "cells": [
    {
      "cell_type": "markdown",
      "metadata": {
        "id": "view-in-github",
        "colab_type": "text"
      },
      "source": [
        "<a href=\"https://colab.research.google.com/github/Jagroop-Dev/Xistence-Engine-WHO/blob/main/WHO_ModelTesting.ipynb\" target=\"_parent\"><img src=\"https://colab.research.google.com/assets/colab-badge.svg\" alt=\"Open In Colab\"/></a>"
      ]
    },
    {
      "cell_type": "markdown",
      "source": [
        "<div style=\"display: flex;\">\n",
        "  <img src=\"https://github.com/Jagroop-Dev/Xistence-Engine-WHO/blob/main/WHOl1.png?raw=true\"\n",
        "       width=\"300px\"\n",
        "       height=\"300px\"\n",
        "       style=\"margin-right: 50px;\" />\n",
        "  \n",
        "  <img src=\"https://github.com/Jagroop-Dev/Xistence-Engine-WHO/blob/main/WHO%20LOGO.png?raw=true\"\n",
        "       width=\"300px\"\n",
        "       height=\"300px\" />\n",
        "</div>\n",
        "\n",
        "# Team 5: Xistence Engine Exploratory Data Analysis\n",
        "        \n",
        "### By Jagroop Singh, Graciela Diwa and Joachim Boyden"
      ],
      "metadata": {
        "id": "2UCJy7mZ-fv2"
      }
    },
    {
      "cell_type": "markdown",
      "source": [
        "### imports"
      ],
      "metadata": {
        "id": "jS7Ah5p6RtQS"
      }
    },
    {
      "cell_type": "code",
      "execution_count": 64,
      "metadata": {
        "id": "UVDMt4yCEJ0R"
      },
      "outputs": [],
      "source": [
        "import pandas as pd\n",
        "import seaborn as sns\n",
        "import matplotlib.pyplot as plt\n",
        "import numpy as np\n",
        "\n",
        "import statsmodels.api as sm\n",
        "import statsmodels.tools\n",
        "import statsmodels.api as sm"
      ]
    },
    {
      "cell_type": "code",
      "source": [
        "X_test_fe = pd.read_csv('https://raw.githubusercontent.com/Jagroop-Dev/Xistence-Engine-WHO/refs/heads/main/X_test_fe.csv')\n",
        "X_train_fe = pd.read_csv('https://raw.githubusercontent.com/Jagroop-Dev/Xistence-Engine-WHO/refs/heads/main/X_train_fe.csv')\n",
        "y_test = pd.read_csv('https://raw.githubusercontent.com/Jagroop-Dev/Xistence-Engine-WHO/refs/heads/main/y_test.csv')\n",
        "y_train = pd.read_csv('https://raw.githubusercontent.com/Jagroop-Dev/Xistence-Engine-WHO/refs/heads/main/y_train.csv')"
      ],
      "metadata": {
        "id": "BFctCg0bGPAb"
      },
      "execution_count": 65,
      "outputs": []
    },
    {
      "cell_type": "markdown",
      "source": [
        "## Full Model"
      ],
      "metadata": {
        "id": "luXMxVoAIn0k"
      }
    },
    {
      "cell_type": "code",
      "source": [
        "full_feature_cols = ['const', 'Year', 'Under_five_deaths', 'Infant_deaths',\n",
        "       'Adult_mortality', 'Alcohol_consumption', 'Hepatitis_B',\n",
        "       'BMI', 'GDP_per_capita',\n",
        "       'Population_mln', 'Schooling',\n",
        "       'Economy_status_Developed', 'Region_Asia',\n",
        "       'Region_Central America and Caribbean', 'Region_European Union',\n",
        "       'Region_Middle East', 'Region_North America', 'Region_Oceania',\n",
        "       'Region_Rest of Europe', 'Region_South America', 'Polio']"
      ],
      "metadata": {
        "id": "LgEULXWrOTMG"
      },
      "execution_count": 66,
      "outputs": []
    },
    {
      "cell_type": "markdown",
      "source": [
        "## Features Selection:\n",
        "\n",
        "* **Economy_status_Developing**: This had a correlation of 1 with Economy_status_Developing and so dropping this feature losses almost no signal and reduces multicolinearity. This change alone often took the condition number from a eight digit number to a two digit number.\n",
        "\n",
        "* **Country**: We dropped counrty as if paired with the year acts as a psudeo index as each country-year pair is unique.\n",
        "\n",
        "* **Stepwise approach**: We utilised a stepwise fuction to only include features with a P-Value of below 0.05, this results in the remaining feature selection."
      ],
      "metadata": {
        "id": "OOjWhizWQagk"
      }
    },
    {
      "cell_type": "markdown",
      "source": [
        "## Model Results"
      ],
      "metadata": {
        "id": "TpYtuIkYN4fZ"
      }
    },
    {
      "cell_type": "markdown",
      "source": [
        "Running this feature selection on the data, we got this metrics:\n",
        "* R-squared:        0.98\n",
        "* AIC:              7282\n",
        "* BIC:              7403\n",
        "* Condition Number: 27.32\n",
        "* train rmse 1.17\n",
        "* test rmse: 1.21\n",
        "\n",
        "The test is slightly overfit, at 2.83% more rmse than in the train, but this is under 5% so we have deemed it acceptible. We did experiment with adding regulisation (lasso and rigid), but it increased the overall rmse for both by over 5% each time."
      ],
      "metadata": {
        "id": "-xXWW74XSiDz"
      }
    },
    {
      "cell_type": "markdown",
      "source": [
        "## Minimal Ethical Model\n",
        "\n",
        "The best ethical model we found was using the following features:\n",
        "```python\n",
        "feature_cols = ['GDP_per_capita', 'Under_five_deaths', 'Adult_mortality', 'const',\n",
        "                'Economy_status_Developed', 'Population_mln', 'Infant_deaths', 'Year',\n",
        "                'Region_Asia', 'Region_Central America and Caribbean', 'Region_European Union',\n",
        "                'Region_Middle East', 'Region_North America', 'Region_Oceania', 'Region_Rest of Europe',\n",
        "                'Region_South America']\n",
        "```\n",
        "> Resulted in 3.57% difference between Train RMSE (1.188) and Test RMSE (1.230)\n",
        "\n",
        "The primary principle guiding feature selection was whether a feature posed a potential risk to user privacy. Stepwise feature selection was also applied to find the best combination of features and to reduce multicolinearity.\n",
        "\n",
        "**INCLUDED**\n",
        "* `GDP_per_capita, Year, Population_mln` - publicly available and non identifiable\n",
        "* `Under_five_deaths, Adult_mortality, Infant_deaths` - Although medical, this is aggregated data, not individual level, and provides vital signals for the model\n",
        "* `Economic_status_Developed` - Binary classification, indicator of overall resources available to region\n",
        "* `Region_` - Regional context to health and life expectancy\n",
        "\n",
        "**EXCLUDED**\n",
        "* `Alcohol_consumption` - highly sensitive and could birng reputational harm to individuals or lead to discrimination\n",
        "* `Hepatitis_B, Measles, Polio, Diphtheria, Incidents_HIV` - private and medical information, highly sensitive. May potentially lead to reputational harm or discrimination\n",
        "* `Schooling` - Historically valuable indicator but can reinforce systemic inequalities, signals similar information to GDP\n",
        "* `Thinness_ten_nineteen_years, Thinness_five_nine_years` - private and medical, also consider this is data derived from children who may not be able to fully consent to collection or usage of their data\n",
        "* `BMI` - private, medical, also widely regarded as inaccurate due to limitations across race, age, sex. Also inclusion has marginal impact on model performance.\n",
        "\n",
        "\n",
        "Further reasoning:\\\n",
        "Privacy and data sensitivity were considered. Medical information, such as that which would be protected under EU GDPR and UK GDPR were considered for exclusion. Also, data that could be considered under Protected Characteristics were excluded. Data that could result in damage to reputation were also excluded.  \n",
        "\n",
        "The aim of this feature selection was to minimise data used whilst aiming to return a good prediction.\n",
        "\n",
        "### Ethical Model Results\n",
        ">* R-squared:          0.98\n",
        ">* AIC:                7324.64\n",
        ">* BIC:                7416.42\n",
        ">* Condition Number:   20.48\n",
        ">* Train_RMSE:         1.19\n",
        ">* Test_RMSE:          1.23\n",
        "\n",
        ">* RMSE % difference:  3.57\n",
        "\n",
        "### Full model results\n",
        "* R-squared:        0.98\n",
        "* AIC:              7282\n",
        "* BIC:              7403\n",
        "* Condition Number: 27.32\n",
        "* train rmse 1.17\n",
        "* test rmse: 1.21\n",
        "\n"
      ],
      "metadata": {
        "id": "HdDWJxs2GcsN"
      }
    },
    {
      "cell_type": "markdown",
      "source": [
        "## Running the Ethical Model"
      ],
      "metadata": {
        "id": "cHevMIHDb44-"
      }
    },
    {
      "cell_type": "code",
      "source": [
        "# Fitting the ethical model\n",
        "# feature selection\n",
        "ethical_feature_cols = ['GDP_per_capita', 'Under_five_deaths', 'Adult_mortality', 'const',\n",
        "                'Economy_status_Developed', 'Population_mln', 'Infant_deaths', 'Year',\n",
        "                'Region_Asia', 'Region_Central America and Caribbean', 'Region_European Union',\n",
        "                'Region_Middle East', 'Region_North America', 'Region_Oceania', 'Region_Rest of Europe',\n",
        "                'Region_South America']\n",
        "\n",
        "\n",
        "\n",
        "# initialising and fitting the model\n",
        "ethical_lin_reg = sm.OLS(y_train, X_train_fe[ethical_feature_cols])\n",
        "ethical_results = ethical_lin_reg.fit()\n",
        "#results.summary()\n",
        "\n",
        "\n",
        "# printing results for train and test\n",
        "print('Ethical Model Results')\n",
        "print(\">* R-squared:         \", round(ethical_results.rsquared, 2))\n",
        "print(\">* AIC:               \", round(ethical_results.aic, 2))\n",
        "print(\">* BIC:               \", round(ethical_results.bic, 2))\n",
        "print(\">* Condition Number:  \", round(ethical_results.condition_number, 2))\n",
        "\n",
        "ethical_y_pred_train = ethical_results.predict(X_train_fe[ethical_feature_cols])\n",
        "ethical_rmse_train = sm.tools.eval_measures.rmse(y_train.values.flatten(), ethical_y_pred_train) # flatten if using X y csv\n",
        "print(f'>* Train_RMSE:         {round(ethical_rmse_train, 2)}')\n",
        "\n",
        "# running on test set\n",
        "ethical_X_test_fe = X_test_fe[ethical_feature_cols]\n",
        "ethical_y_test_pred = ethical_results.predict(ethical_X_test_fe)\n",
        "ethical_rmse_test = sm.tools.eval_measures.rmse(y_test.values.flatten(), ethical_y_test_pred) # flatten if using X y csv\n",
        "print(f'>* Test_RMSE:          {round(ethical_rmse_test, 2)}\\n')\n",
        "\n",
        "# RMSE percentage difference\n",
        "percent_diff = 100 * abs(ethical_rmse_train - ethical_rmse_test) / ethical_rmse_train\n",
        "print(f'>* RMSE % difference:  {round(percent_diff, 2)}')\n"
      ],
      "metadata": {
        "colab": {
          "base_uri": "https://localhost:8080/"
        },
        "id": "HvCHVdFZGdSB",
        "outputId": "366c003d-6262-4291-c66b-d5d4815c9459"
      },
      "execution_count": 57,
      "outputs": [
        {
          "output_type": "stream",
          "name": "stdout",
          "text": [
            "Ethical Model Results\n",
            ">* R-squared:          0.98\n",
            ">* AIC:                7324.64\n",
            ">* BIC:                7416.42\n",
            ">* Condition Number:   20.48\n",
            ">* Train_RMSE:         1.19\n",
            ">* Test_RMSE:          1.23\n",
            "\n",
            ">* RMSE % difference:  3.57\n"
          ]
        }
      ]
    },
    {
      "cell_type": "code",
      "source": [
        "# Fitting the ethical model\n",
        "\n",
        "\n",
        "# initialising and fitting the model\n",
        "full_lin_reg = sm.OLS(y_train, X_train_fe[full_feature_cols])\n",
        "full_results = full_lin_reg.fit()\n",
        "#results.summary()\n",
        "\n",
        "\n",
        "# printing results for train and test\n",
        "print('full Model Results')\n",
        "print(\">* R-squared:         \", round(full_results.rsquared, 2))\n",
        "print(\">* AIC:               \", round(full_results.aic, 2))\n",
        "print(\">* BIC:               \", round(full_results.bic, 2))\n",
        "print(\">* Condition Number:  \", round(full_results.condition_number, 2))\n",
        "\n",
        "full_y_pred_train = full_results.predict(X_train_fe[full_feature_cols])\n",
        "full_rmse_train = sm.tools.eval_measures.rmse(y_train.values.flatten(), full_y_pred_train) # flatten if using X y csv\n",
        "print(f'>* Train_RMSE:         {round(full_rmse_train, 2)}')\n",
        "\n",
        "# running on test set\n",
        "full_X_test_fe = X_test_fe[full_feature_cols]\n",
        "full_y_test_pred = full_results.predict(full_X_test_fe)\n",
        "full_rmse_test = sm.tools.eval_measures.rmse(y_test.values.flatten(), full_y_test_pred) # flatten if using X y csv\n",
        "print(f'>* Test_RMSE:          {round(full_rmse_test, 2)}\\n')\n",
        "\n",
        "# RMSE percentage difference\n",
        "percent_diff = 100 * abs(full_rmse_train - full_rmse_test) / full_rmse_train\n",
        "print(f'>* RMSE % difference:  {round(percent_diff, 2)}')\n"
      ],
      "metadata": {
        "id": "2cggSCxHGo3b",
        "colab": {
          "base_uri": "https://localhost:8080/"
        },
        "outputId": "0459cacb-fee8-41b7-8c1f-a76022233b90"
      },
      "execution_count": 58,
      "outputs": [
        {
          "output_type": "stream",
          "name": "stdout",
          "text": [
            "full Model Results\n",
            ">* R-squared:          0.98\n",
            ">* AIC:                7282.74\n",
            ">* BIC:                7403.21\n",
            ">* Condition Number:   27.32\n",
            ">* Train_RMSE:         1.18\n",
            ">* Test_RMSE:          1.21\n",
            "\n",
            ">* RMSE % difference:  2.83\n"
          ]
        }
      ]
    },
    {
      "cell_type": "code",
      "source": [],
      "metadata": {
        "id": "kop_VhnmI7jp"
      },
      "execution_count": 59,
      "outputs": []
    },
    {
      "cell_type": "code",
      "source": [],
      "metadata": {
        "id": "SPvu_th4beR5"
      },
      "execution_count": null,
      "outputs": []
    },
    {
      "cell_type": "markdown",
      "source": [
        "# APPENDIX: Ethical model feature selection trials\n"
      ],
      "metadata": {
        "id": "gFwfcA_KW1Ly"
      }
    },
    {
      "cell_type": "markdown",
      "source": [
        "\n",
        "## VO\n",
        ">* R-squared:        0.9843535949579584\n",
        ">* AIC:              7296.568331791556\n",
        ">* BIC:              7445.723667535347\n",
        ">* Condition Number: 1.1570115211473046e+16\n",
        ">* RMSE:             1.1760419395325783\n",
        ">\n",
        "pop scaled- original all features\n",
        ">* R-squared:        0.9846481072654\n",
        ">* AIC:              7253.033812296681\n",
        ">* BIC:              7402.189148040472\n",
        ">* Condition Number: 1.1439814127157576e+16\n",
        ">* RMSE:             1.1649210390771898\n",
        "\n",
        "VIF Rec\n",
        ">* R-squared:        0.9077510161357867\n",
        ">* AIC:              20512.569565352685\n",
        ">* BIC:              20621.567695319303\n",
        ">* Condition Number: 61.15960669340647\n",
        ">* RMSE:             21.105637864076023\n",
        "\n",
        "\n",
        "```\n",
        "#all the feautres to start w\n",
        "feature_cols = ['const', 'Year', 'Infant_deaths', 'Under_five_deaths',\n",
        "       'Adult_mortality', 'Alcohol_consumption', 'Hepatitis_B', 'Measles',\n",
        "       'BMI', 'Polio', 'Diphtheria', 'Incidents_HIV', 'GDP_per_capita',\n",
        "       'Population_mln', 'Thinness_ten_nineteen_years',\n",
        "       'Thinness_five_nine_years', 'Schooling', 'Economy_status_Developed',\n",
        "       'Economy_status_Developing', 'Region_Asia',\n",
        "       'Region_Central America and Caribbean', 'Region_European Union',\n",
        "       'Region_Middle East', 'Region_North America', 'Region_Oceania',\n",
        "       'Region_Rest of Europe', 'Region_South America']\n",
        "```\n",
        "\n",
        "\n",
        "## V1\n",
        "\n",
        ">* R-squared:        0.980020292649429\n",
        ">* AIC:              7840.662722174737\n",
        ">* BIC:              7943.924108458899\n",
        ">* Condition Number: 1.5866767331111436e+16\n",
        ">* RMSE:             1.3289544221444312\n",
        ">\n",
        "\n",
        "VIF rec\n",
        ">* R-squared:        0.870998911499458\n",
        ">* AIC:              12103.61533626432\n",
        ">* BIC:              12178.193004136216\n",
        ">* Condition Number: 30.503057505903552\n",
        ">* RMSE:             3.376853444925223\n",
        ">\n",
        "Stepwise Rec\n",
        ">* R-squared:        0.9799646775857649\n",
        ">* AIC:              7837.0310389619635\n",
        ">* BIC:              7911.608706833859\n",
        ">* Condition Number: 2.5294714076884115e+17\n",
        ">* RMSE:             1.3308027605981834\n",
        "\n",
        "\n",
        "* remove Region bc similar reasons to Country\n",
        "\n",
        "```\n",
        "feature_cols = ['const', 'Year', 'Infant_deaths', 'Under_five_deaths',\n",
        "       'Adult_mortality', 'Alcohol_consumption', 'Hepatitis_B', 'Measles',\n",
        "       'BMI', 'Polio', 'Diphtheria', 'Incidents_HIV', 'GDP_per_capita',\n",
        "       'Population_mln', 'Thinness_ten_nineteen_years',\n",
        "       'Thinness_five_nine_years', 'Schooling', 'Economy_status_Developed',\n",
        "       'Economy_status_Developing']\n",
        "```\n",
        "## V2 -- okay\n",
        ">* R-squared:        0.9786602504084859\n",
        ">* AIC:              7973.53511953705\n",
        ">* BIC:              8025.165812679132\n",
        ">* Condition Number: 9.676982049927363e+16\n",
        ">* RMSE:             1.3734415595456866\n",
        ">\n",
        "VIF Rec\n",
        ">* R-squared:        0.9521672302217338\n",
        ">* AIC:              9818.69160693097\n",
        ">* BIC:              9858.848812708144\n",
        ">* Condition Number: 24.97417024518387\n",
        ">* RMSE:             2.0562612439672776\n",
        ">\n",
        "Stepwise Rec\n",
        ">* R-squared:        0.9786471744881255\n",
        ">* AIC:              7972.938498668429\n",
        ">* BIC:              8018.832448128057\n",
        ">* Condition Number: 1.454726227865714e+17\n",
        ">* RMSE:             1.3738622829033809\n",
        ">\n",
        "stepwise pop scaled\n",
        ">* R-squared:        0.9794466774001356\n",
        ">* AIC:              7887.510589615549\n",
        ">* BIC:              7939.1412827576305\n",
        ">* Condition Number: 5965290688594460.0\n",
        ">* RMSE:             1.3478964972383716\n",
        "\n",
        "* also excluding countries, regions\n",
        "* Things you dont have to share at your job application (health related)\n",
        " removed\n",
        " * 'Alcohol_consumption', 'Hepatitis_B', 'Measles', 'BMI', 'Polio', 'Diphtheria', 'Incidents_HIV', 'Thinness_ten_nineteen_years',\n",
        "       'Thinness_five_nine_years',\n",
        "```\n",
        "feature_cols = ['const', 'Year', 'Infant_deaths', 'Under_five_deaths',\n",
        "       'Adult_mortality', 'GDP_per_capita',\n",
        "       'Population_mln', 'Schooling', 'Economy_status_Developed',\n",
        "       'Economy_status_Developing']\n",
        "```\n",
        "\n",
        "## V3 -- best so far = stepwise and population scaled!\n",
        ">* R-squared:        0.9836129771132165\n",
        ">* AIC:              7384.52376758664\n",
        ">* BIC:              7482.048410188349\n",
        ">* Condition Number: 93.28867972312926\n",
        ">* RMSE:             1.203553930233103\n",
        ">\n",
        "VIF rec\n",
        ">* R-squared:        0.9521672302217338\n",
        ">* AIC:              9818.69160693097\n",
        ">* BIC:              9858.848812708144\n",
        ">* Condition Number: 24.97417024518387\n",
        ">* RMSE:             2.0562612439672776\n",
        ">\n",
        "Stepwise rec\n",
        ">* R-squared:        0.9830894437665191\n",
        ">* AIC:              7448.57187311378\n",
        ">* BIC:              7523.149540985676\n",
        ">* Condition Number: 6.55056667569356e+16\n",
        ">* RMSE:             1.2226283777898956\n",
        ">\n",
        "stepwise pop scaled\n",
        ">* R-squared:        0.9840218527115269\n",
        ">* AIC:              7324.6353752837\n",
        ">* BIC:              7416.423274202956\n",
        ">* Condition Number: 20.48436381513106\n",
        ">* RMSE:             1.1884440355523156\n",
        ">* TEST_RMSE:           1.230880967228096\n",
        ">\n",
        ">['GDP_per_capita', 'Under_five_deaths', 'Adult_mortality', 'const', 'Economy_status_Developed',\n",
        "                'Population_mln', 'Infant_deaths', 'Year', 'Region_Asia',\n",
        "       'Region_Central America and Caribbean', 'Region_European Union',\n",
        "       'Region_Middle East', 'Region_North America', 'Region_Oceania',\n",
        "       'Region_Rest of Europe', 'Region_South America']\n",
        "\n",
        "\n",
        "* Regions back in, but mostly like V2 (health related removed)\n",
        "```\n",
        "feature_cols = ['const', 'Year', 'Infant_deaths', 'Under_five_deaths',\n",
        "       'Adult_mortality', 'GDP_per_capita',\n",
        "       'Population_mln', 'Schooling', 'Economy_status_Developed', 'Region_Asia',\n",
        "       'Region_Central America and Caribbean', 'Region_European Union',\n",
        "       'Region_Middle East', 'Region_North America', 'Region_Oceania',\n",
        "       'Region_Rest of Europe', 'Region_South America']\n",
        "```\n",
        "\n",
        "\n",
        "## V4 -- not good\n",
        "\n",
        ">* R-squared:        0.90064265468054\n",
        ">* AIC:              11509.43995048745\n",
        ">* BIC:              11595.491105724252\n",
        ">* Condition Number: 81.05387425970994\n",
        ">* RMSE:             2.9635722186026223\n",
        ">\n",
        "VIF rec\n",
        ">* R-squared:        0.8922985444984101\n",
        ">* AIC:              11692.186645133395\n",
        ">* BIC:              11772.501056687744\n",
        ">* Condition Number: 77.86857698012635\n",
        ">* RMSE:             3.085505405046719\n",
        ">\n",
        "Stepwise Rec\n",
        ">* R-squared:        0.9006259476908346\n",
        ">* AIC:              11507.825150953626\n",
        ">* BIC:              11588.139562507975\n",
        ">* Condition Number: 13.415535373613116\n",
        ">* RMSE:             2.963821371240409 \\\n",
        "\n",
        "\n",
        "\n",
        "* removed adult mortality, death under five, economy status (mostly like v3)\n",
        "```\n",
        "feature_cols = ['const', 'Year', 'Infant_deaths', 'GDP_per_capita',\n",
        "       'Population_mln', 'Schooling', 'Economy_status_Developed', 'Region_Asia',\n",
        "       'Region_Central America and Caribbean', 'Region_European Union',\n",
        "       'Region_Middle East', 'Region_North America', 'Region_Oceania',\n",
        "       'Region_Rest of Europe', 'Region_South America']\n",
        "```"
      ],
      "metadata": {
        "id": "WgI87AgzXX4p"
      }
    },
    {
      "cell_type": "code",
      "source": [],
      "metadata": {
        "id": "zr0a1fETW7u_"
      },
      "execution_count": null,
      "outputs": []
    }
  ]
}