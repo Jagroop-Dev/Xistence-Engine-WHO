{
  "nbformat": 4,
  "nbformat_minor": 0,
  "metadata": {
    "colab": {
      "provenance": []
    },
    "kernelspec": {
      "name": "python3",
      "display_name": "Python 3"
    },
    "language_info": {
      "name": "python"
    }
  },
  "cells": [
    {
      "cell_type": "markdown",
      "source": [
        "<div style=\"display: flex;\">\n",
        "  <img src=\"https://github.com/Jagroop-Dev/Xistence-Engine-WHO/blob/main/WHOl1.png?raw=true\"\n",
        "       width=\"300px\"\n",
        "       height=\"300px\"\n",
        "       style=\"margin-right: 50px;\" />\n",
        "  \n",
        "  <img src=\"https://github.com/Jagroop-Dev/Xistence-Engine-WHO/blob/main/WHO%20LOGO.png?raw=true\"\n",
        "       width=\"300px\"\n",
        "       height=\"300px\" />\n",
        "</div>\n",
        "\n",
        "# Team 5: Xistence Engine Exploratory Data Analysis\n",
        "        \n",
        "### By Jagroop Singh, Graciela Diwa and Joachim Boyden\n",
        "\n"
      ],
      "metadata": {
        "id": "uzPdE3kyoTS5"
      }
    },
    {
      "cell_type": "markdown",
      "source": [
        "## Feature Engineering\n",
        "\n",
        "Preparing the data for linear regression modelling"
      ],
      "metadata": {
        "id": "gvR3nH0d_u0I"
      }
    },
    {
      "cell_type": "markdown",
      "source": [
        "## Imports"
      ],
      "metadata": {
        "id": "RYn34N3joOyl"
      }
    },
    {
      "cell_type": "code",
      "execution_count": null,
      "metadata": {
        "id": "3988fsGZOT0i"
      },
      "outputs": [],
      "source": [
        "import pandas as pd\n",
        "import seaborn as sns\n",
        "import matplotlib.pyplot as plt\n",
        "import numpy as np\n",
        "\n",
        "from sklearn.model_selection import train_test_split\n",
        "from sklearn.preprocessing import RobustScaler, PowerTransformer\n",
        "\n",
        "import statsmodels.api as sm\n",
        "import statsmodels.tools"
      ]
    },
    {
      "cell_type": "code",
      "source": [
        "df = pd.read_csv('https://raw.githubusercontent.com/Jagroop-Dev/Xistence-Engine-WHO/refs/heads/main/Life%20Expectancy%20Data.csv')"
      ],
      "metadata": {
        "id": "cervW1WpOu5-"
      },
      "execution_count": null,
      "outputs": []
    },
    {
      "cell_type": "markdown",
      "source": [
        "## Train Test Split the data"
      ],
      "metadata": {
        "id": "sjgwIHhQpGB4"
      }
    },
    {
      "cell_type": "code",
      "source": [
        "def split_data(df :pd.DataFrame) -> tuple:\n",
        "  df = df.copy()\n",
        "  feature_cols = list(df.columns)\n",
        "  feature_cols.remove('Life_expectancy')\n",
        "\n",
        "  X = df[feature_cols]\n",
        "  y = df['Life_expectancy']\n",
        "\n",
        "  return train_test_split(X, y, test_size = 0.2, random_state = 1024, stratify=df['Region'])"
      ],
      "metadata": {
        "id": "lEIoMvFgObg4"
      },
      "execution_count": null,
      "outputs": []
    },
    {
      "cell_type": "code",
      "source": [
        "X_train, X_test, y_train, y_test = split_data(df)\n",
        "\n",
        "#sanity check to make sure its all good !!\n",
        "\n",
        "print(f'Train match: {X_train.shape[0] == y_train.shape[0]}') # true\n",
        "print(f'Test match: {X_test.shape[0] == y_test.shape[0]}') # true"
      ],
      "metadata": {
        "colab": {
          "base_uri": "https://localhost:8080/"
        },
        "id": "fajIlAe9OoyA",
        "outputId": "ba944e74-78fe-41e8-e8cb-5cd4273c2fd1"
      },
      "execution_count": null,
      "outputs": [
        {
          "output_type": "stream",
          "name": "stdout",
          "text": [
            "Train match: True\n",
            "Test match: True\n"
          ]
        }
      ]
    },
    {
      "cell_type": "markdown",
      "source": [
        "## Scaling Functions"
      ],
      "metadata": {
        "id": "lrIRZRRxWdI1"
      }
    },
    {
      "cell_type": "markdown",
      "source": [
        "We ended up using the rodust scaler, not only because it resulted in a better model, but because many of the features had long tails and many outliers and the fact that this scaler uses the median and IQR allows it to handle skewed data much better."
      ],
      "metadata": {
        "id": "saj5uRuSWDUH"
      }
    },
    {
      "cell_type": "code",
      "source": [
        "def robust_scale(df :pd.DataFrame) -> pd.DataFrame:\n",
        "    df = df.copy()\n",
        "    rob = RobustScaler()\n",
        "    rob.fit(df)\n",
        "    return pd.DataFrame(rob.transform(df), columns=df.columns)"
      ],
      "metadata": {
        "id": "Z4FsHdYPWb51"
      },
      "execution_count": null,
      "outputs": []
    },
    {
      "cell_type": "code",
      "source": [
        "def power_scale(df :pd.DataFrame) -> pd.DataFrame:\n",
        "    df = df.copy()\n",
        "    rob = PowerTransformer()\n",
        "    rob.fit(df)\n",
        "    return pd.DataFrame(rob.transform(df), columns=df.columns)"
      ],
      "metadata": {
        "id": "JzucPk8NWo7E"
      },
      "execution_count": null,
      "outputs": []
    },
    {
      "cell_type": "markdown",
      "source": [
        "## VIF and Stepwise Functions\n",
        "* to aid with feature selection and reduce multicolinearity"
      ],
      "metadata": {
        "id": "0GCCKpl_fif-"
      }
    },
    {
      "cell_type": "markdown",
      "source": [
        "While we did use this VIF function in our exploration, we did not particulary use many insights gained from it in our final feature selection."
      ],
      "metadata": {
        "id": "SUJcJbH4SRRT"
      }
    },
    {
      "cell_type": "code",
      "source": [
        "## This a piece of code from stats.stackexchange.com\n",
        "\n",
        "## It runs the model with all the variables.\n",
        "## If any of them have a higher VIF than 5, it drops the max.\n",
        "## Then it keeps going until none of them have a higher VIF than 5.\n",
        "## This leaves us with a nice set of features with no collineraity\n",
        "\n",
        "def calculate_vif(X, thresh = 5.0):\n",
        "    variables = list(range(X.shape[1]))\n",
        "    dropped = True\n",
        "    while dropped:\n",
        "        dropped = False\n",
        "        # this bit uses list comprehension to gather all the VIF values of the different variables\n",
        "        vif = [variance_inflation_factor(X.iloc[:, variables].values, ix)\n",
        "               for ix in range(X.iloc[:, variables].shape[1])]\n",
        "\n",
        "        maxloc = vif.index(max(vif)) # getting the index of the highest VIF value\n",
        "        if max(vif) > thresh:\n",
        "            print('dropping \\'' + X.iloc[:, variables].columns[maxloc] +\n",
        "                  '\\' at index: ' + str(maxloc))\n",
        "            del variables[maxloc] # we delete the highest VIF value on condition that it's higher than the threshold\n",
        "            dropped = True # if we deleted anything, we set the 'dropped' value to True to stay in the while loop\n",
        "\n",
        "    print('Remaining variables:')\n",
        "    print(X.columns[variables]) # finally, we print the variables that are still in our set\n",
        "    return X.iloc[:, variables] # and return our X cut down to the remaining variables"
      ],
      "metadata": {
        "id": "fJMdUHZCgAzt"
      },
      "execution_count": null,
      "outputs": []
    },
    {
      "cell_type": "markdown",
      "source": [
        "The stepwise function on the other hand was very usefull in providing a baseline of features to use in our models. However, it did only select half of the regions. It doesn't make sense to only use half of a catergorical's catergories so, because as a whole they produced more signal than noise, we included all the region catergories."
      ],
      "metadata": {
        "id": "X-IS2m67S3N3"
      }
    },
    {
      "cell_type": "code",
      "source": [
        "def stepwise_selection(X, y, threshold_in = 0.01, threshold_out = 0.05, verbose = True):\n",
        "    # The function is checking for p-values (whether features are statistically significant) - lower is better\n",
        "    included = [] # this is going to be the list of features we keep\n",
        "    while True:\n",
        "        changed = False\n",
        "        # forward step\n",
        "        excluded = list(set(X.columns) - set(included))\n",
        "        new_pval = pd.Series(index = excluded, dtype = 'float64')\n",
        "        for new_column in excluded:\n",
        "            model = sm.OLS(y, sm.add_constant(pd.DataFrame(X[included + [new_column]]))).fit()\n",
        "            new_pval[new_column] = model.pvalues[new_column]\n",
        "        best_pval = new_pval.min()\n",
        "        # we add the feature with the lowest (best) p-value under the threshold to our 'included' list\n",
        "        if best_pval < threshold_in:\n",
        "            best_feature = new_pval.idxmin()\n",
        "            included.append(best_feature)\n",
        "            changed = True\n",
        "            if verbose:\n",
        "                print('Add  {:30} with p-value {:.6}'.format(best_feature, best_pval)) # specifying the verbose text\n",
        "\n",
        "\n",
        "        # backward step: removing features if new features added to the list make them statistically insignificant\n",
        "        model = sm.OLS(y, sm.add_constant(pd.DataFrame(X[included]))).fit()\n",
        "\n",
        "        # use all coefs except intercept\n",
        "        pvalues = model.pvalues.iloc[1:]\n",
        "        worst_pval = pvalues.max() # null if pvalues is empty\n",
        "        # if the p-value exceeds the upper threshold, the feature will be dropped from the 'included' list\n",
        "        if worst_pval > threshold_out:\n",
        "            changed = True\n",
        "            worst_feature = pvalues.idxmax()\n",
        "            included.remove(worst_feature)\n",
        "            if verbose:\n",
        "                print('Drop {:30} with p-value {:.6}'.format(worst_feature, worst_pval))\n",
        "        if not changed:\n",
        "            break\n",
        "    return included"
      ],
      "metadata": {
        "id": "7Ww3516NgCwp"
      },
      "execution_count": null,
      "outputs": []
    },
    {
      "cell_type": "markdown",
      "source": [
        "## THE Feature Engineering Function\n",
        "\n",
        "* **OHE**: Region is not hierarchical, so label encoding would not be appropriate\n",
        "* **Drop 'Country'**: Acts as an index with the year, so the model starts to memorise too much.\n",
        "* **Logarithmic transformations**: GDP_per_capita, Population_mln and Incidents_HIV all had varying degrees of exponetial/logarithmic distributions, so they were transformed to be more linear.\n",
        "* **Robust scaler**: Used due to the large skew and many outliers the features contain. This scaler is less effected by these things.\n",
        "* **Add Constant**: so that the model can have an intercept.\n",
        "\n"
      ],
      "metadata": {
        "id": "iHJt3sTZVj7V"
      }
    },
    {
      "cell_type": "code",
      "source": [
        "# mega function to do all the cleaning, build off smaller functions for modularity\n",
        "\n",
        "def feature_eng(df):\n",
        "    df = df.copy() # make copy\n",
        "\n",
        "    # OHE - Country and Region - check please !\n",
        "    #df = pd.get_dummies(df, columns = ['Country'], drop_first = True, prefix = 'Country', dtype = int)\n",
        "    df = pd.get_dummies(df, columns = ['Region'], drop_first = True, prefix = 'Region', dtype = int)\n",
        "    df.drop(columns = ['Country'], inplace = True)\n",
        "\n",
        "    # Transformations: GDP_per_capita, Population_mln, Incidents_HIV\n",
        "    df['GDP_per_capita'] = np.log(df['GDP_per_capita'] + 1) #log\n",
        "    df['Population_mln'] = np.log(df['Population_mln'] + 1) #log\n",
        "    df['Incidents_HIV'] = np.exp(df['Incidents_HIV']) #exp\n",
        "\n",
        "\n",
        "    # Robust scale across DF\n",
        "    df = robust_scale(df)\n",
        "\n",
        "    df = sm.add_constant(df)\n",
        "\n",
        "\n",
        "    return df"
      ],
      "metadata": {
        "id": "dKpFWzabOqvC"
      },
      "execution_count": null,
      "outputs": []
    },
    {
      "cell_type": "code",
      "source": [
        "X_train_fe = feature_eng(X_train)"
      ],
      "metadata": {
        "id": "ThBEVb8Y4uPD"
      },
      "execution_count": null,
      "outputs": []
    },
    {
      "cell_type": "code",
      "source": [
        "y_train = y_train.reset_index(drop=True)\n",
        "X_train_fe = X_train_fe.reset_index(drop=True)"
      ],
      "metadata": {
        "id": "q1QgMraU7cuN"
      },
      "execution_count": null,
      "outputs": []
    },
    {
      "cell_type": "markdown",
      "source": [
        "## Fit the inital model\n",
        "\n",
        "The initial model produced the following performance metrics, which will serve as a baseline for comparing both the Ethical and Full models.\n",
        "\n",
        ">* R-squared:\t0.985\n",
        ">* AIC:\t7308.\n",
        ">* BIC:\t7457.\n",
        ">* Condition Number:\t1.00e+16\n",
        ">* RMSE_Train: 1.1789084706465398\n",
        ">* RMSE_Test: 1.5452869970162162"
      ],
      "metadata": {
        "id": "YsUQFcQfrbbR"
      }
    },
    {
      "cell_type": "markdown",
      "source": [
        "While the R-squared and training RMSE are very good, both the Condition number and the testing RMSE are too large. These are the metrics we will be trying to reduce in the next notebook."
      ],
      "metadata": {
        "id": "YGCIOY2cUceE"
      }
    },
    {
      "cell_type": "code",
      "source": [
        "# using statsmodels linear regression\n",
        "\n",
        "lin_reg = sm.OLS(y_train, X_train_fe[X_train_fe.columns])\n",
        "results = lin_reg.fit()\n",
        "results.summary()"
      ],
      "metadata": {
        "id": "OfJTbX3G10lR",
        "colab": {
          "base_uri": "https://localhost:8080/",
          "height": 1000
        },
        "outputId": "71277e04-bf4c-43a8-e505-b68edad3f20e"
      },
      "execution_count": null,
      "outputs": [
        {
          "output_type": "execute_result",
          "data": {
            "text/plain": [
              "<class 'statsmodels.iolib.summary.Summary'>\n",
              "\"\"\"\n",
              "                            OLS Regression Results                            \n",
              "==============================================================================\n",
              "Dep. Variable:        Life_expectancy   R-squared:                       0.985\n",
              "Model:                            OLS   Adj. R-squared:                  0.984\n",
              "Method:                 Least Squares   F-statistic:                     5782.\n",
              "Date:                Mon, 14 Jul 2025   Prob (F-statistic):               0.00\n",
              "Time:                        14:41:28   Log-Likelihood:                -3627.9\n",
              "No. Observations:                2291   AIC:                             7308.\n",
              "Df Residuals:                    2265   BIC:                             7457.\n",
              "Df Model:                          25                                         \n",
              "Covariance Type:            nonrobust                                         \n",
              "========================================================================================================\n",
              "                                           coef    std err          t      P>|t|      [0.025      0.975]\n",
              "--------------------------------------------------------------------------------------------------------\n",
              "const                                   70.7384      0.090    786.748      0.000      70.562      70.915\n",
              "Year                                     0.2796      0.046      6.014      0.000       0.188       0.371\n",
              "Infant_deaths                           -1.9323      0.249     -7.750      0.000      -2.421      -1.443\n",
              "Under_five_deaths                       -2.7338      0.221    -12.353      0.000      -3.168      -2.300\n",
              "Adult_mortality                         -6.4100      0.063   -102.057      0.000      -6.533      -6.287\n",
              "Alcohol_consumption                     -0.2112      0.077     -2.751      0.006      -0.362      -0.061\n",
              "Hepatitis_B                             -0.1287      0.046     -2.771      0.006      -0.220      -0.038\n",
              "Measles                                 -0.0027      0.050     -0.055      0.956      -0.101       0.095\n",
              "BMI                                     -0.4141      0.073     -5.637      0.000      -0.558      -0.270\n",
              "Polio                                    0.3179      0.093      3.436      0.001       0.136       0.499\n",
              "Diphtheria                              -0.1841      0.093     -1.986      0.047      -0.366      -0.002\n",
              "Incidents_HIV                         8.421e-10    4.2e-10      2.003      0.045    1.79e-11    1.67e-09\n",
              "GDP_per_capita                           1.1123      0.090     12.354      0.000       0.936       1.289\n",
              "Population_mln                           0.3617      0.043      8.389      0.000       0.277       0.446\n",
              "Thinness_ten_nineteen_years             -0.1937      0.093     -2.088      0.037      -0.376      -0.012\n",
              "Thinness_five_nine_years                 0.1279      0.093      1.369      0.171      -0.055       0.311\n",
              "Schooling                                0.4697      0.098      4.799      0.000       0.278       0.662\n",
              "Economy_status_Developed                 1.2576      0.079     15.969      0.000       1.103       1.412\n",
              "Economy_status_Developing               -1.2576      0.079    -15.969      0.000      -1.412      -1.103\n",
              "Region_Asia                              0.2207      0.113      1.950      0.051      -0.001       0.443\n",
              "Region_Central America and Caribbean     2.0153      0.120     16.751      0.000       1.779       2.251\n",
              "Region_European Union                   -0.6353      0.176     -3.606      0.000      -0.981      -0.290\n",
              "Region_Middle East                      -0.0298      0.140     -0.212      0.832      -0.305       0.246\n",
              "Region_North America                    -0.0209      0.247     -0.084      0.933      -0.506       0.464\n",
              "Region_Oceania                          -0.5091      0.149     -3.410      0.001      -0.802      -0.216\n",
              "Region_Rest of Europe                    0.5152      0.145      3.557      0.000       0.231       0.799\n",
              "Region_South America                     1.4917      0.138     10.830      0.000       1.222       1.762\n",
              "==============================================================================\n",
              "Omnibus:                       13.335   Durbin-Watson:                   1.982\n",
              "Prob(Omnibus):                  0.001   Jarque-Bera (JB):               13.410\n",
              "Skew:                           0.177   Prob(JB):                      0.00122\n",
              "Kurtosis:                       3.124   Cond. No.                     1.00e+16\n",
              "==============================================================================\n",
              "\n",
              "Notes:\n",
              "[1] Standard Errors assume that the covariance matrix of the errors is correctly specified.\n",
              "[2] The smallest eigenvalue is 8.77e-14. This might indicate that there are\n",
              "strong multicollinearity problems or that the design matrix is singular.\n",
              "\"\"\""
            ],
            "text/html": [
              "<table class=\"simpletable\">\n",
              "<caption>OLS Regression Results</caption>\n",
              "<tr>\n",
              "  <th>Dep. Variable:</th>     <td>Life_expectancy</td> <th>  R-squared:         </th> <td>   0.985</td>\n",
              "</tr>\n",
              "<tr>\n",
              "  <th>Model:</th>                   <td>OLS</td>       <th>  Adj. R-squared:    </th> <td>   0.984</td>\n",
              "</tr>\n",
              "<tr>\n",
              "  <th>Method:</th>             <td>Least Squares</td>  <th>  F-statistic:       </th> <td>   5782.</td>\n",
              "</tr>\n",
              "<tr>\n",
              "  <th>Date:</th>             <td>Mon, 14 Jul 2025</td> <th>  Prob (F-statistic):</th>  <td>  0.00</td> \n",
              "</tr>\n",
              "<tr>\n",
              "  <th>Time:</th>                 <td>14:41:28</td>     <th>  Log-Likelihood:    </th> <td> -3627.9</td>\n",
              "</tr>\n",
              "<tr>\n",
              "  <th>No. Observations:</th>      <td>  2291</td>      <th>  AIC:               </th> <td>   7308.</td>\n",
              "</tr>\n",
              "<tr>\n",
              "  <th>Df Residuals:</th>          <td>  2265</td>      <th>  BIC:               </th> <td>   7457.</td>\n",
              "</tr>\n",
              "<tr>\n",
              "  <th>Df Model:</th>              <td>    25</td>      <th>                     </th>     <td> </td>   \n",
              "</tr>\n",
              "<tr>\n",
              "  <th>Covariance Type:</th>      <td>nonrobust</td>    <th>                     </th>     <td> </td>   \n",
              "</tr>\n",
              "</table>\n",
              "<table class=\"simpletable\">\n",
              "<tr>\n",
              "                    <td></td>                      <th>coef</th>     <th>std err</th>      <th>t</th>      <th>P>|t|</th>  <th>[0.025</th>    <th>0.975]</th>  \n",
              "</tr>\n",
              "<tr>\n",
              "  <th>const</th>                                <td>   70.7384</td> <td>    0.090</td> <td>  786.748</td> <td> 0.000</td> <td>   70.562</td> <td>   70.915</td>\n",
              "</tr>\n",
              "<tr>\n",
              "  <th>Year</th>                                 <td>    0.2796</td> <td>    0.046</td> <td>    6.014</td> <td> 0.000</td> <td>    0.188</td> <td>    0.371</td>\n",
              "</tr>\n",
              "<tr>\n",
              "  <th>Infant_deaths</th>                        <td>   -1.9323</td> <td>    0.249</td> <td>   -7.750</td> <td> 0.000</td> <td>   -2.421</td> <td>   -1.443</td>\n",
              "</tr>\n",
              "<tr>\n",
              "  <th>Under_five_deaths</th>                    <td>   -2.7338</td> <td>    0.221</td> <td>  -12.353</td> <td> 0.000</td> <td>   -3.168</td> <td>   -2.300</td>\n",
              "</tr>\n",
              "<tr>\n",
              "  <th>Adult_mortality</th>                      <td>   -6.4100</td> <td>    0.063</td> <td> -102.057</td> <td> 0.000</td> <td>   -6.533</td> <td>   -6.287</td>\n",
              "</tr>\n",
              "<tr>\n",
              "  <th>Alcohol_consumption</th>                  <td>   -0.2112</td> <td>    0.077</td> <td>   -2.751</td> <td> 0.006</td> <td>   -0.362</td> <td>   -0.061</td>\n",
              "</tr>\n",
              "<tr>\n",
              "  <th>Hepatitis_B</th>                          <td>   -0.1287</td> <td>    0.046</td> <td>   -2.771</td> <td> 0.006</td> <td>   -0.220</td> <td>   -0.038</td>\n",
              "</tr>\n",
              "<tr>\n",
              "  <th>Measles</th>                              <td>   -0.0027</td> <td>    0.050</td> <td>   -0.055</td> <td> 0.956</td> <td>   -0.101</td> <td>    0.095</td>\n",
              "</tr>\n",
              "<tr>\n",
              "  <th>BMI</th>                                  <td>   -0.4141</td> <td>    0.073</td> <td>   -5.637</td> <td> 0.000</td> <td>   -0.558</td> <td>   -0.270</td>\n",
              "</tr>\n",
              "<tr>\n",
              "  <th>Polio</th>                                <td>    0.3179</td> <td>    0.093</td> <td>    3.436</td> <td> 0.001</td> <td>    0.136</td> <td>    0.499</td>\n",
              "</tr>\n",
              "<tr>\n",
              "  <th>Diphtheria</th>                           <td>   -0.1841</td> <td>    0.093</td> <td>   -1.986</td> <td> 0.047</td> <td>   -0.366</td> <td>   -0.002</td>\n",
              "</tr>\n",
              "<tr>\n",
              "  <th>Incidents_HIV</th>                        <td> 8.421e-10</td> <td>  4.2e-10</td> <td>    2.003</td> <td> 0.045</td> <td> 1.79e-11</td> <td> 1.67e-09</td>\n",
              "</tr>\n",
              "<tr>\n",
              "  <th>GDP_per_capita</th>                       <td>    1.1123</td> <td>    0.090</td> <td>   12.354</td> <td> 0.000</td> <td>    0.936</td> <td>    1.289</td>\n",
              "</tr>\n",
              "<tr>\n",
              "  <th>Population_mln</th>                       <td>    0.3617</td> <td>    0.043</td> <td>    8.389</td> <td> 0.000</td> <td>    0.277</td> <td>    0.446</td>\n",
              "</tr>\n",
              "<tr>\n",
              "  <th>Thinness_ten_nineteen_years</th>          <td>   -0.1937</td> <td>    0.093</td> <td>   -2.088</td> <td> 0.037</td> <td>   -0.376</td> <td>   -0.012</td>\n",
              "</tr>\n",
              "<tr>\n",
              "  <th>Thinness_five_nine_years</th>             <td>    0.1279</td> <td>    0.093</td> <td>    1.369</td> <td> 0.171</td> <td>   -0.055</td> <td>    0.311</td>\n",
              "</tr>\n",
              "<tr>\n",
              "  <th>Schooling</th>                            <td>    0.4697</td> <td>    0.098</td> <td>    4.799</td> <td> 0.000</td> <td>    0.278</td> <td>    0.662</td>\n",
              "</tr>\n",
              "<tr>\n",
              "  <th>Economy_status_Developed</th>             <td>    1.2576</td> <td>    0.079</td> <td>   15.969</td> <td> 0.000</td> <td>    1.103</td> <td>    1.412</td>\n",
              "</tr>\n",
              "<tr>\n",
              "  <th>Economy_status_Developing</th>            <td>   -1.2576</td> <td>    0.079</td> <td>  -15.969</td> <td> 0.000</td> <td>   -1.412</td> <td>   -1.103</td>\n",
              "</tr>\n",
              "<tr>\n",
              "  <th>Region_Asia</th>                          <td>    0.2207</td> <td>    0.113</td> <td>    1.950</td> <td> 0.051</td> <td>   -0.001</td> <td>    0.443</td>\n",
              "</tr>\n",
              "<tr>\n",
              "  <th>Region_Central America and Caribbean</th> <td>    2.0153</td> <td>    0.120</td> <td>   16.751</td> <td> 0.000</td> <td>    1.779</td> <td>    2.251</td>\n",
              "</tr>\n",
              "<tr>\n",
              "  <th>Region_European Union</th>                <td>   -0.6353</td> <td>    0.176</td> <td>   -3.606</td> <td> 0.000</td> <td>   -0.981</td> <td>   -0.290</td>\n",
              "</tr>\n",
              "<tr>\n",
              "  <th>Region_Middle East</th>                   <td>   -0.0298</td> <td>    0.140</td> <td>   -0.212</td> <td> 0.832</td> <td>   -0.305</td> <td>    0.246</td>\n",
              "</tr>\n",
              "<tr>\n",
              "  <th>Region_North America</th>                 <td>   -0.0209</td> <td>    0.247</td> <td>   -0.084</td> <td> 0.933</td> <td>   -0.506</td> <td>    0.464</td>\n",
              "</tr>\n",
              "<tr>\n",
              "  <th>Region_Oceania</th>                       <td>   -0.5091</td> <td>    0.149</td> <td>   -3.410</td> <td> 0.001</td> <td>   -0.802</td> <td>   -0.216</td>\n",
              "</tr>\n",
              "<tr>\n",
              "  <th>Region_Rest of Europe</th>                <td>    0.5152</td> <td>    0.145</td> <td>    3.557</td> <td> 0.000</td> <td>    0.231</td> <td>    0.799</td>\n",
              "</tr>\n",
              "<tr>\n",
              "  <th>Region_South America</th>                 <td>    1.4917</td> <td>    0.138</td> <td>   10.830</td> <td> 0.000</td> <td>    1.222</td> <td>    1.762</td>\n",
              "</tr>\n",
              "</table>\n",
              "<table class=\"simpletable\">\n",
              "<tr>\n",
              "  <th>Omnibus:</th>       <td>13.335</td> <th>  Durbin-Watson:     </th> <td>   1.982</td>\n",
              "</tr>\n",
              "<tr>\n",
              "  <th>Prob(Omnibus):</th> <td> 0.001</td> <th>  Jarque-Bera (JB):  </th> <td>  13.410</td>\n",
              "</tr>\n",
              "<tr>\n",
              "  <th>Skew:</th>          <td> 0.177</td> <th>  Prob(JB):          </th> <td> 0.00122</td>\n",
              "</tr>\n",
              "<tr>\n",
              "  <th>Kurtosis:</th>      <td> 3.124</td> <th>  Cond. No.          </th> <td>1.00e+16</td>\n",
              "</tr>\n",
              "</table><br/><br/>Notes:<br/>[1] Standard Errors assume that the covariance matrix of the errors is correctly specified.<br/>[2] The smallest eigenvalue is 8.77e-14. This might indicate that there are<br/>strong multicollinearity problems or that the design matrix is singular."
            ],
            "text/latex": "\\begin{center}\n\\begin{tabular}{lclc}\n\\toprule\n\\textbf{Dep. Variable:}                        & Life\\_expectancy & \\textbf{  R-squared:         } &     0.985   \\\\\n\\textbf{Model:}                                &       OLS        & \\textbf{  Adj. R-squared:    } &     0.984   \\\\\n\\textbf{Method:}                               &  Least Squares   & \\textbf{  F-statistic:       } &     5782.   \\\\\n\\textbf{Date:}                                 & Mon, 14 Jul 2025 & \\textbf{  Prob (F-statistic):} &     0.00    \\\\\n\\textbf{Time:}                                 &     14:41:28     & \\textbf{  Log-Likelihood:    } &   -3627.9   \\\\\n\\textbf{No. Observations:}                     &        2291      & \\textbf{  AIC:               } &     7308.   \\\\\n\\textbf{Df Residuals:}                         &        2265      & \\textbf{  BIC:               } &     7457.   \\\\\n\\textbf{Df Model:}                             &          25      & \\textbf{                     } &             \\\\\n\\textbf{Covariance Type:}                      &    nonrobust     & \\textbf{                     } &             \\\\\n\\bottomrule\n\\end{tabular}\n\\begin{tabular}{lcccccc}\n                                               & \\textbf{coef} & \\textbf{std err} & \\textbf{t} & \\textbf{P$> |$t$|$} & \\textbf{[0.025} & \\textbf{0.975]}  \\\\\n\\midrule\n\\textbf{const}                                 &      70.7384  &        0.090     &   786.748  &         0.000        &       70.562    &       70.915     \\\\\n\\textbf{Year}                                  &       0.2796  &        0.046     &     6.014  &         0.000        &        0.188    &        0.371     \\\\\n\\textbf{Infant\\_deaths}                        &      -1.9323  &        0.249     &    -7.750  &         0.000        &       -2.421    &       -1.443     \\\\\n\\textbf{Under\\_five\\_deaths}                   &      -2.7338  &        0.221     &   -12.353  &         0.000        &       -3.168    &       -2.300     \\\\\n\\textbf{Adult\\_mortality}                      &      -6.4100  &        0.063     &  -102.057  &         0.000        &       -6.533    &       -6.287     \\\\\n\\textbf{Alcohol\\_consumption}                  &      -0.2112  &        0.077     &    -2.751  &         0.006        &       -0.362    &       -0.061     \\\\\n\\textbf{Hepatitis\\_B}                          &      -0.1287  &        0.046     &    -2.771  &         0.006        &       -0.220    &       -0.038     \\\\\n\\textbf{Measles}                               &      -0.0027  &        0.050     &    -0.055  &         0.956        &       -0.101    &        0.095     \\\\\n\\textbf{BMI}                                   &      -0.4141  &        0.073     &    -5.637  &         0.000        &       -0.558    &       -0.270     \\\\\n\\textbf{Polio}                                 &       0.3179  &        0.093     &     3.436  &         0.001        &        0.136    &        0.499     \\\\\n\\textbf{Diphtheria}                            &      -0.1841  &        0.093     &    -1.986  &         0.047        &       -0.366    &       -0.002     \\\\\n\\textbf{Incidents\\_HIV}                        &    8.421e-10  &      4.2e-10     &     2.003  &         0.045        &     1.79e-11    &     1.67e-09     \\\\\n\\textbf{GDP\\_per\\_capita}                      &       1.1123  &        0.090     &    12.354  &         0.000        &        0.936    &        1.289     \\\\\n\\textbf{Population\\_mln}                       &       0.3617  &        0.043     &     8.389  &         0.000        &        0.277    &        0.446     \\\\\n\\textbf{Thinness\\_ten\\_nineteen\\_years}        &      -0.1937  &        0.093     &    -2.088  &         0.037        &       -0.376    &       -0.012     \\\\\n\\textbf{Thinness\\_five\\_nine\\_years}           &       0.1279  &        0.093     &     1.369  &         0.171        &       -0.055    &        0.311     \\\\\n\\textbf{Schooling}                             &       0.4697  &        0.098     &     4.799  &         0.000        &        0.278    &        0.662     \\\\\n\\textbf{Economy\\_status\\_Developed}            &       1.2576  &        0.079     &    15.969  &         0.000        &        1.103    &        1.412     \\\\\n\\textbf{Economy\\_status\\_Developing}           &      -1.2576  &        0.079     &   -15.969  &         0.000        &       -1.412    &       -1.103     \\\\\n\\textbf{Region\\_Asia}                          &       0.2207  &        0.113     &     1.950  &         0.051        &       -0.001    &        0.443     \\\\\n\\textbf{Region\\_Central America and Caribbean} &       2.0153  &        0.120     &    16.751  &         0.000        &        1.779    &        2.251     \\\\\n\\textbf{Region\\_European Union}                &      -0.6353  &        0.176     &    -3.606  &         0.000        &       -0.981    &       -0.290     \\\\\n\\textbf{Region\\_Middle East}                   &      -0.0298  &        0.140     &    -0.212  &         0.832        &       -0.305    &        0.246     \\\\\n\\textbf{Region\\_North America}                 &      -0.0209  &        0.247     &    -0.084  &         0.933        &       -0.506    &        0.464     \\\\\n\\textbf{Region\\_Oceania}                       &      -0.5091  &        0.149     &    -3.410  &         0.001        &       -0.802    &       -0.216     \\\\\n\\textbf{Region\\_Rest of Europe}                &       0.5152  &        0.145     &     3.557  &         0.000        &        0.231    &        0.799     \\\\\n\\textbf{Region\\_South America}                 &       1.4917  &        0.138     &    10.830  &         0.000        &        1.222    &        1.762     \\\\\n\\bottomrule\n\\end{tabular}\n\\begin{tabular}{lclc}\n\\textbf{Omnibus:}       & 13.335 & \\textbf{  Durbin-Watson:     } &    1.982  \\\\\n\\textbf{Prob(Omnibus):} &  0.001 & \\textbf{  Jarque-Bera (JB):  } &   13.410  \\\\\n\\textbf{Skew:}          &  0.177 & \\textbf{  Prob(JB):          } &  0.00122  \\\\\n\\textbf{Kurtosis:}      &  3.124 & \\textbf{  Cond. No.          } & 1.00e+16  \\\\\n\\bottomrule\n\\end{tabular}\n%\\caption{OLS Regression Results}\n\\end{center}\n\nNotes: \\newline\n [1] Standard Errors assume that the covariance matrix of the errors is correctly specified. \\newline\n [2] The smallest eigenvalue is 8.77e-14. This might indicate that there are \\newline\n strong multicollinearity problems or that the design matrix is singular."
          },
          "metadata": {},
          "execution_count": 82
        }
      ]
    },
    {
      "cell_type": "code",
      "source": [
        "y_pred = results.predict(X_train_fe[X_train_fe.columns])\n",
        "\n",
        "rmse_train = statsmodels.tools.eval_measures.rmse(y_train, y_pred)\n",
        "\n",
        "print(rmse_train)"
      ],
      "metadata": {
        "id": "BcPduQxb24LS",
        "colab": {
          "base_uri": "https://localhost:8080/"
        },
        "outputId": "513184f7-328b-46a9-806d-9fe7c4f3fd9a"
      },
      "execution_count": null,
      "outputs": [
        {
          "output_type": "stream",
          "name": "stdout",
          "text": [
            "1.1789084706465398\n"
          ]
        }
      ]
    },
    {
      "cell_type": "code",
      "source": [
        "X_test_fe = feature_eng(X_test)\n",
        "#X_test_fe = X_test_fe[X_test_fe.columns]"
      ],
      "metadata": {
        "id": "s394kZNYbPyc"
      },
      "execution_count": null,
      "outputs": []
    },
    {
      "cell_type": "code",
      "source": [],
      "metadata": {
        "id": "-BrNnMM1fA-f"
      },
      "execution_count": null,
      "outputs": []
    },
    {
      "cell_type": "code",
      "source": [
        "\n",
        "\n",
        "X_test_fe = X_test_fe[X_train_fe.columns]\n",
        "\n",
        "y_test_pred = results.predict(X_test_fe)\n",
        "\n",
        "rmse_test = statsmodels.tools.eval_measures.rmse(y_test, y_test_pred)\n",
        "print(f\"RMSE on Test Data: {rmse_test}\")"
      ],
      "metadata": {
        "colab": {
          "base_uri": "https://localhost:8080/"
        },
        "id": "9TyGmO_7bhND",
        "outputId": "50bed8e3-11f5-4687-f226-14cac1651ebc"
      },
      "execution_count": null,
      "outputs": [
        {
          "output_type": "stream",
          "name": "stdout",
          "text": [
            "RMSE on Test Data: 1.5231452564428307\n"
          ]
        }
      ]
    },
    {
      "cell_type": "code",
      "source": [],
      "metadata": {
        "id": "oqRU77wVbuqE"
      },
      "execution_count": null,
      "outputs": []
    },
    {
      "cell_type": "markdown",
      "source": [],
      "metadata": {
        "id": "-mDaTxR7Foph"
      }
    }
  ]
}